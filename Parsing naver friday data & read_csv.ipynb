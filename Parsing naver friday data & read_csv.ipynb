{
 "cells": [
  {
   "cell_type": "code",
   "execution_count": 10,
   "metadata": {
    "collapsed": false
   },
   "outputs": [],
   "source": [
    "#-*- coding: UTF-8 -*-\n",
    "import urllib2\n",
    "from bs4 import BeautifulSoup as BT\n",
    "from lxml import etree\n",
    "import numpy as np\n",
    "import pandas as pd\n",
    "from pandas import Series, DataFrame\n",
    "import matplotlib.pyplot as plt\n",
    "import os\n",
    "import re\n",
    "from datetime import datetime\n",
    "os.chdir('C:\\Users\\kikun\\webtoon')"
   ]
  },
  {
   "cell_type": "code",
   "execution_count": 11,
   "metadata": {
    "collapsed": false
   },
   "outputs": [],
   "source": [
    "url = 'http://comic.naver.com/webtoon/weekdayList.nhn?week=fri'\n",
    "r = urllib2.urlopen(url)\n",
    "soup = BT(r,'lxml')\n",
    "data = soup.findAll('dt')\n",
    "href = list()\n",
    "for i in range(len(data)):\n",
    "    href.append(data[i].find('a')['href'])\n",
    "href=list(set(href))"
   ]
  },
  {
   "cell_type": "code",
   "execution_count": 12,
   "metadata": {
    "collapsed": false
   },
   "outputs": [],
   "source": [
    "original = list()\n",
    "for i in range(len(href)):\n",
    "    original.append('http://comic.naver.com')\n",
    "for i in range(len(href)):\n",
    "    original[i] = original[i] + href[i]    "
   ]
  },
  {
   "cell_type": "code",
   "execution_count": null,
   "metadata": {
    "collapsed": false,
    "scrolled": false
   },
   "outputs": [
    {
     "name": "stdout",
     "output_type": "stream",
   
   
   "source": [
    "print '------------------------------------------데이터 추출 진행생황-----------------------------------------------------------'\n",
    "for i in range(len(original)):\n",
    "    r = urllib2.urlopen(original[i])\n",
    "    soup = BT(r,'lxml')\n",
    "    print soup.find('div',attrs={'class':'comicinfo'}).find('h2').text\n",
    "    n='http://comic.naver.com'+soup.findAll('td',attrs={'class':'title'})[0].find('a')['href']\n",
    "    k = re.split('&',n)\n",
    "    l = k[1][3:]\n",
    "    u= range(1,int(l)+1)\n",
    "    p=list()\n",
    "    p2=list()\n",
    "    print re.findall('Id=.+',k[0])[0]\n",
    "    for o in range(0,int(l)):\n",
    "        u[o]=k[0]+'&no='+str(u[o])+'&weekday=fri'\n",
    "        r2 = urllib2.urlopen(u[o])\n",
    "        soup2 = BT(r2)\n",
    "        try: \n",
    "            p.append(soup2.find('div',attrs={'class':'rating_type4'}).find('strong').text)\n",
    "            p2.append(soup2.find('dd',attrs={'class':'date'}).text)\n",
    "        except AttributeError:\n",
    "            pass\n",
    "    data=Series(p,index=p2)\n",
    "    data.to_csv(re.findall('Id=.+',k[0])[0])\n",
    "    print 'complete~'"
   ]
  },
  {
   "cell_type": "code",
   "execution_count": 3,
   "metadata": {
    "collapsed": false,
    "scrolled": true
   },
   "outputs": [],
   "source": [
    "data = pd.read_csv('Id=61731',header=None,names=['date','star'])"
   ]
  },
  {
   "cell_type": "code",
   "execution_count": 4,
   "metadata": {
    "collapsed": false,
    "scrolled": true
   },
   "outputs": [
    {
     "name": "stderr",
     "output_type": "stream",
     "text": [
      "C:\\Users\\kikun\\Anaconda2\\lib\\site-packages\\ipykernel\\__main__.py:2: SettingWithCopyWarning: \n",
      "A value is trying to be set on a copy of a slice from a DataFrame\n",
      "\n",
      "See the caveats in the documentation: http://pandas.pydata.org/pandas-docs/stable/indexing.html#indexing-view-versus-copy\n",
      "  from ipykernel import kernelapp as app\n"
     ]
    }
   ],
   "source": [
    "for i in range(len(data)):\n",
    "    data.ix[:,0][i]=datetime.strptime(data.ix[:,0][i], '%Y.%m.%d')"
   ]
  },
  {
   "cell_type": "code",
   "execution_count": 5,
   "metadata": {
    "collapsed": false
   },
   "outputs": [
    {
     "name": "stderr",
     "output_type": "stream",
     "text": [
      "C:\\Users\\kikun\\Anaconda2\\lib\\site-packages\\ipykernel\\__main__.py:2: SettingWithCopyWarning: \n",
      "A value is trying to be set on a copy of a slice from a DataFrame\n",
      "\n",
      "See the caveats in the documentation: http://pandas.pydata.org/pandas-docs/stable/indexing.html#indexing-view-versus-copy\n",
      "  from ipykernel import kernelapp as app\n"
     ]
    }
   ],
   "source": [
    "for i in range(len(data)):\n",
    "    data.ix[:,1][i]=float(data.ix[:,1][i])"
   ]
  },
  {
   "cell_type": "code",
   "execution_count": 6,
   "metadata": {
    "collapsed": false,
    "scrolled": true
   },
   "outputs": [],
   "source": [
    "sound=Series(list(data.ix[:,1]),data.ix[:,0])"
   ]
  },
  {
   "cell_type": "code",
   "execution_count": 7,
   "metadata": {
    "collapsed": false
   },
   "outputs": [
    {
     "data": {
      "text/plain": [
       "<matplotlib.axes._subplots.AxesSubplot at 0xd4ef8d0>"
      ]
     },
     "execution_count": 7,
     "metadata": {},
     "output_type": "execute_result"
    }
   ],
   "source": [
    "sound.plot()"
   ]
  },
  {
   "cell_type": "code",
   "execution_count": 8,
   "metadata": {
    "collapsed": false
   },
   "outputs": [
    {
     "data": {
      "text/plain": [
       "<matplotlib.text.Text at 0xd5c86a0>"
      ]
     },
     "execution_count": 8,
     "metadata": {},
     "output_type": "execute_result"
    }
   ],
   "source": [
    "plt.title('sound of inside')"
   ]
  },
  {
   "cell_type": "code",
   "execution_count": 9,
   "metadata": {
    "collapsed": true
   },
   "outputs": [],
   "source": [
    "plt.show()"
   ]
  },
  {
   "cell_type": "code",
   "execution_count": 394,
   "metadata": {
    "collapsed": false
   },
   "outputs": [],
   "source": [
    "sound=Series(list(data.ix[:,1]),data.ix[:,0])"
   ]
  },
  {
   "cell_type": "code",
   "execution_count": null,
   "metadata": {
    "collapsed": true
   },
   "outputs": [],
   "source": []
  }
 ],
 "metadata": {
  "kernelspec": {
   "display_name": "Python 2",
   "language": "python",
   "name": "python2"
  },
  "language_info": {
   "codemirror_mode": {
    "name": "ipython",
    "version": 2
   },
   "file_extension": ".py",
   "mimetype": "text/x-python",
   "name": "python",
   "nbconvert_exporter": "python",
   "pygments_lexer": "ipython2",
   "version": "2.7.11"
  }
 },
 "nbformat": 4,
 "nbformat_minor": 0
}
